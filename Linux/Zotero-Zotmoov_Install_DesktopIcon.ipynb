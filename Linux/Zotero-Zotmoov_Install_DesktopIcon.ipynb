{
 "cells": [
  {
   "cell_type": "markdown",
   "id": "9e097cf2",
   "metadata": {},
   "source": [
    "<div align=\"center\">\n",
    "\n",
    "# ***💡 ZOTERO***\n",
    "> a application to manage docs, paper, research file,... logically\n",
    "\n",
    "---\n",
    "---\n",
    "\n",
    "</div>"
   ]
  },
  {
   "cell_type": "markdown",
   "id": "34eb52fc",
   "metadata": {},
   "source": [
    "<div align=\"center\">\n",
    "\n",
    "# **1. Zotero**\n",
    "\n",
    "</div>"
   ]
  },
  {
   "cell_type": "markdown",
   "id": "869ebe31",
   "metadata": {},
   "source": [
    "### **🔧 Install **zotero** in Linux (Ubuntu)**"
   ]
  },
  {
   "cell_type": "markdown",
   "id": "235c70db",
   "metadata": {},
   "source": [
    "### **📋 Prerequisites**\n",
    "- **OS:** Ubuntu 24.04 or older\n",
    "- **Required software:** [Zotero-*.tar.bz2](https://www.zotero.org/download/)  \n",
    "- **Permissions:** root\n"
   ]
  },
  {
   "cell_type": "markdown",
   "id": "2bfefb93",
   "metadata": {},
   "source": [
    "### **🔧 Step by step**\n"
   ]
  },
  {
   "cell_type": "markdown",
   "id": "0fb30d8b",
   "metadata": {},
   "source": [
    "#### 1.1 Download and Install \n",
    "\n",
    "- Download file at official web Zotero\n",
    "- Go to the directory you have saved it, and: \n",
    "\n"
   ]
  },
  {
   "cell_type": "code",
   "execution_count": null,
   "id": "37690127",
   "metadata": {
    "vscode": {
     "languageId": "shellscript"
    }
   },
   "outputs": [],
   "source": [
    "# Extract file:\n",
    "tar -xvjf Zotero-7.0.24_linux-x86_64.tar.bz2\n",
    "\n",
    "# Move source dir to where you want to save, i save at '/opt/zotero':\n",
    "sudo mv Zotero_linux-x86_64 /opt/zotero\n",
    "\n",
    "# Go to that path and run: \n",
    "ccd /opt/zotero\n",
    "./zotero"
   ]
  },
  {
   "cell_type": "markdown",
   "id": "ddadccff",
   "metadata": {},
   "source": [
    "\n",
    "#### 1.2 Verify Installation"
   ]
  },
  {
   "cell_type": "markdown",
   "id": "d3836b72",
   "metadata": {},
   "source": [
    "✅ **Expected Output:**\n",
    "\n",
    "<figure align='center'>\n",
    "    <img src='../assets/images/zotero_install_done.png'>\n",
    "</figure>\n",
    "\n",
    "- When you run:\n",
    "\n",
    "<figure align='center'>\n",
    "    <img src='../assets/images/zotero_install_run.png'>\n",
    "</figure>\n"
   ]
  },
  {
   "cell_type": "markdown",
   "id": "e4940ff1",
   "metadata": {},
   "source": [
    "\n",
    "#### 1.3 Create a desktop icon"
   ]
  },
  {
   "cell_type": "markdown",
   "id": "ce1e329d",
   "metadata": {},
   "source": [
    "- Create a file zotero.desktop at:\n",
    "    `~/.local/share/applications/`\n",
    "\n",
    "With content:"
   ]
  },
  {
   "cell_type": "code",
   "execution_count": null,
   "id": "8b678032",
   "metadata": {
    "vscode": {
     "languageId": "shellscript"
    }
   },
   "outputs": [],
   "source": [
    "[Desktop Entry]\n",
    "Version=1.0\n",
    "Type=Application\n",
    "Name=Zotero\n",
    "Comment=Application to build a logical docs, research, paper,... \n",
    "Exec=/opt/zotero/zotero %U\n",
    "Icon=/opt/zotero/icons/icon128.png\n",
    "Terminal=false\n",
    "Categories=Utility;\n",
    "StartupNotify=false\n"
   ]
  },
  {
   "cell_type": "markdown",
   "id": "466b8599",
   "metadata": {},
   "source": [
    "- Change mod for this file and update desktop database:"
   ]
  },
  {
   "cell_type": "code",
   "execution_count": null,
   "id": "99ac2dc1",
   "metadata": {
    "vscode": {
     "languageId": "shellscript"
    }
   },
   "outputs": [],
   "source": [
    "chmod +x ~/.local/share/applications/zotero.desktop\n",
    "\n",
    "update-desktop-database ~/.local/share/applications"
   ]
  },
  {
   "cell_type": "markdown",
   "id": "4b89fad9",
   "metadata": {},
   "source": [
    "- And, see your result:\n",
    "<figure align='center'>\n",
    "    <img src='../assets/images/zotero_install_icondesktop.png'>\n",
    "</figure>"
   ]
  },
  {
   "cell_type": "markdown",
   "id": "287f6fe8",
   "metadata": {},
   "source": [
    "Problem: you want to save all your file, paper,... to cloud like OneDrive, Google Drive,...\n",
    "\n",
    "&rarr; Use Zotmoov"
   ]
  },
  {
   "cell_type": "markdown",
   "id": "6e6422e2",
   "metadata": {},
   "source": [
    "<div align=\"center\">\n",
    "\n",
    "# **2. Zotmoov**\n",
    "\n",
    "</div>"
   ]
  },
  {
   "cell_type": "markdown",
   "id": "063775b3",
   "metadata": {},
   "source": [
    "### **🔧 Step by step**\n"
   ]
  },
  {
   "cell_type": "markdown",
   "id": "430ce6eb",
   "metadata": {},
   "source": [
    "#### 2.1 Connect your online account to your Ubuntu OS"
   ]
  },
  {
   "cell_type": "markdown",
   "id": "ab523614",
   "metadata": {},
   "source": [
    "- Go to Setting &rarr; Online Account &rarr; [Microsoft 365] or another one &rarr; Sign in.. \n",
    "And log in to your account.\n",
    "\n",
    "<figure align='center'>\n",
    "    <img src='../assets/images/connect_cloud_to_ubuntu.png'>\n",
    "</figure>"
   ]
  },
  {
   "cell_type": "markdown",
   "id": "86789d1f",
   "metadata": {},
   "source": [
    "- And link will appear in your Files: [Oke]\n",
    "\n",
    "<figure align='center'>\n",
    "    <img src='../assets/images/connect_cloud_link_in_Files.png'>\n",
    "</figure>"
   ]
  },
  {
   "cell_type": "markdown",
   "id": "a7ba7110",
   "metadata": {},
   "source": [
    "#### 2.2 Download 'Zotmoov' and add it to Zotero "
   ]
  },
  {
   "cell_type": "markdown",
   "id": "92a3cdc8",
   "metadata": {},
   "source": [
    "- Download the lastest version *.xpi [1.2.24]: [https://github.com/wileyyugioh/zotmoov/releases](https://github.com/wileyyugioh/zotmoov/releases) \n",
    "\n",
    "- Then, open Zotero &rarr; Tools &rarr; Plugins: \n",
    "\n",
    "<figure align='center'>\n",
    "    <img src='../assets/images/zotero_add_zotmoov.png'>\n",
    "</figure>\n",
    "\n",
    "- And drag *.xpi file to Plugins windows: \n",
    "\n",
    "<figure align='center'>\n",
    "    <img src='../assets/images/zotero_drag_zotmoov_file.png'>\n",
    "</figure>\n"
   ]
  },
  {
   "cell_type": "markdown",
   "id": "24ef1873",
   "metadata": {},
   "source": [
    "#### 2.3 Set base path to Cloud path(which you have set above)"
   ]
  },
  {
   "cell_type": "markdown",
   "id": "4fd2c484",
   "metadata": {},
   "source": [
    "- Zotero &rarr; Edits &rarr; Settings.\n",
    "- On Settings windows, choose Zoomoov &rarr; Choose Directory &rarr; Add your Cloud path\n",
    "\n",
    "(mine: */run/user/1000/gvfs/onedrive:host=2ca96f44-6bb4-4743-981a-0056797386f4/OneDrive/Zotero_DB*)\n",
    "\n",
    "<figure align='center'>\n",
    "    <img src='../assets/images/zotmoov_settting.png'>\n",
    "</figure>\n",
    "\n",
    "- Add the path of Base Directory in Zotero Advance Setting ~ Zoomoov:\n",
    "\n",
    "<figure align='center'>\n",
    "    <img src='../assets/images/zotero_advance_setting.png'>\n",
    "</figure>\n",
    "\n",
    "> [Optional]: you can add a lot of filetype at Allowed File Extension to move to cloud with ZotMoov"
   ]
  },
  {
   "cell_type": "markdown",
   "id": "a1c5f7a0",
   "metadata": {},
   "source": [
    "#### 2.4 The final result\n",
    "\n",
    "<figure align='center'>\n",
    "    <img src='../assets/images/zotero_zotmoov_final_result.png'>\n",
    "</figure>"
   ]
  },
  {
   "cell_type": "markdown",
   "id": "46e3056d",
   "metadata": {},
   "source": [
    "### 🖇️ References\n",
    "- Zotero\n",
    "- Google\n",
    "- [ChatGPT](https://chatgpt.com/share/68e147a0-4d88-800f-a91d-3766c7e4dd54)"
   ]
  },
  {
   "cell_type": "markdown",
   "id": "b3e8b464",
   "metadata": {},
   "source": [
    "\n",
    "--- \n"
   ]
  },
  {
   "cell_type": "markdown",
   "id": "c25bf99a",
   "metadata": {},
   "source": [
    "### The end"
   ]
  }
 ],
 "metadata": {
  "language_info": {
   "name": "python"
  }
 },
 "nbformat": 4,
 "nbformat_minor": 5
}
