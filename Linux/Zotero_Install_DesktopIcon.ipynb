{
 "cells": [
  {
   "cell_type": "markdown",
   "id": "9e097cf2",
   "metadata": {},
   "source": [
    "<div align=\"center\">\n",
    "\n",
    "# ***💡 ZOTERO***\n",
    "> a application to manage docs, paper, research file,... logically\n",
    "\n",
    "---\n",
    "---\n",
    "\n",
    "</div>"
   ]
  },
  {
   "cell_type": "markdown",
   "id": "34eb52fc",
   "metadata": {},
   "source": [
    "# **🔧 Install **zotero** in Linux (Ubuntu)**"
   ]
  },
  {
   "cell_type": "markdown",
   "id": "235c70db",
   "metadata": {},
   "source": [
    "## **📋 Prerequisites**\n",
    "- **OS:** Ubuntu 24.04 or older\n",
    "- **Required software:** [Zotero-*.tar.bz2](https://www.zotero.org/download/)  \n",
    "- **Permissions:** root\n"
   ]
  },
  {
   "cell_type": "markdown",
   "id": "2bfefb93",
   "metadata": {},
   "source": [
    "## **🔧 Step by step**\n"
   ]
  },
  {
   "cell_type": "markdown",
   "id": "0fb30d8b",
   "metadata": {},
   "source": [
    "### 1. Download and Install \n",
    "\n",
    "- Download file at official web Zotero\n",
    "- Go to the directory you have saved it, and: \n",
    "\n"
   ]
  },
  {
   "cell_type": "code",
   "execution_count": null,
   "id": "37690127",
   "metadata": {
    "vscode": {
     "languageId": "shellscript"
    }
   },
   "outputs": [],
   "source": [
    "# Extract file:\n",
    "tar -xvjf Zotero-7.0.24_linux-x86_64.tar.bz2\n",
    "\n",
    "# Move source dir to where you want to save, i save at '/opt/zotero':\n",
    "sudo mv Zotero_linux-x86_64 /opt/zotero\n",
    "\n",
    "# Go to that path and run: \n",
    "ccd /opt/zotero\n",
    "./zotero"
   ]
  },
  {
   "cell_type": "markdown",
   "id": "ddadccff",
   "metadata": {},
   "source": [
    "\n",
    "### 2. Verify Installation"
   ]
  },
  {
   "cell_type": "markdown",
   "id": "d3836b72",
   "metadata": {},
   "source": [
    "✅ **Expected Output:**\n",
    "\n",
    "<figure align='center'>\n",
    "    <img src='../assets/images/zotero_install_done.png'>\n",
    "</figure>\n",
    "\n",
    "- When you run:\n",
    "\n",
    "<figure align='center'>\n",
    "    <img src='../assets/images/zotero_install_run.png'>\n",
    "</figure>\n"
   ]
  },
  {
   "cell_type": "markdown",
   "id": "e4940ff1",
   "metadata": {},
   "source": [
    "\n",
    "### 3. Create a desktop icon"
   ]
  },
  {
   "cell_type": "markdown",
   "id": "ce1e329d",
   "metadata": {},
   "source": [
    "- Create a file zotero.desktop at:\n",
    "    `~/.local/share/applications/`\n",
    "\n",
    "With content:"
   ]
  },
  {
   "cell_type": "code",
   "execution_count": null,
   "id": "8b678032",
   "metadata": {
    "vscode": {
     "languageId": "shellscript"
    }
   },
   "outputs": [],
   "source": [
    "[Desktop Entry]\n",
    "Version=1.0\n",
    "Type=Application\n",
    "Name=Zotero\n",
    "Comment=Application to build a logical docs, research, paper,... \n",
    "Exec=/opt/zotero/zotero %U\n",
    "Icon=/opt/zotero/icons/icon128.png\n",
    "Terminal=false\n",
    "Categories=Utility;\n",
    "StartupNotify=false\n"
   ]
  },
  {
   "cell_type": "markdown",
   "id": "466b8599",
   "metadata": {},
   "source": [
    "- Change mod for this file and update desktop database:"
   ]
  },
  {
   "cell_type": "code",
   "execution_count": null,
   "id": "99ac2dc1",
   "metadata": {
    "vscode": {
     "languageId": "shellscript"
    }
   },
   "outputs": [],
   "source": [
    "chmod +x ~/.local/share/applications/zotero.desktop\n",
    "\n",
    "update-desktop-database ~/.local/share/applications"
   ]
  },
  {
   "cell_type": "markdown",
   "id": "4b89fad9",
   "metadata": {},
   "source": [
    "- And, see your result:\n",
    "<figure align='center'>\n",
    "    <img src='../assets/images/zotero_install_icondesktop.png'>\n",
    "</figure>"
   ]
  },
  {
   "cell_type": "markdown",
   "id": "46e3056d",
   "metadata": {},
   "source": [
    "## [H2] - 🖇️ References\n",
    "- Zotero\n",
    "- Google"
   ]
  },
  {
   "cell_type": "markdown",
   "id": "b3e8b464",
   "metadata": {},
   "source": [
    "\n",
    "--- \n"
   ]
  },
  {
   "cell_type": "markdown",
   "id": "c25bf99a",
   "metadata": {},
   "source": [
    "### The end"
   ]
  }
 ],
 "metadata": {
  "language_info": {
   "name": "python"
  }
 },
 "nbformat": 4,
 "nbformat_minor": 5
}
