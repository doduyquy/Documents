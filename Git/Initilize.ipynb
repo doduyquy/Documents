{
 "cells": [
  {
   "cell_type": "markdown",
   "id": "5a006e43",
   "metadata": {},
   "source": []
  },
  {
   "cell_type": "markdown",
   "id": "6d480ee2",
   "metadata": {},
   "source": [
    "# Create a new git repository"
   ]
  },
  {
   "cell_type": "markdown",
   "id": "d68c76d4",
   "metadata": {},
   "source": [
    "## 1. Create a new repository on the command line\n",
    "\n",
    "- In GitHub, create a new repo without Readme.md\n"
   ]
  },
  {
   "cell_type": "code",
   "execution_count": null,
   "id": "fc550b7c",
   "metadata": {
    "vscode": {
     "languageId": "shellscript"
    }
   },
   "outputs": [],
   "source": [
    "echo \"# Documents\" >> README.md\n",
    "git init\n",
    "git add README.md\n",
    "git commit -m \"first commit\"\n",
    "git branch -M main\n",
    "git remote add origin [https://github.com/doduyquy/Documents.git]\n",
    "git push -u origin main"
   ]
  },
  {
   "cell_type": "markdown",
   "id": "b3bad4c9",
   "metadata": {},
   "source": [
    "## 2. Or push an existing repository from the command line\n"
   ]
  },
  {
   "cell_type": "code",
   "execution_count": null,
   "id": "4e983a7f",
   "metadata": {
    "vscode": {
     "languageId": "shellscript"
    }
   },
   "outputs": [],
   "source": [
    "git remote add origin [https://github.com/doduyquy/Documents.git]\n",
    "git branch -M main\n",
    "git push -u origin main"
   ]
  }
 ],
 "metadata": {
  "language_info": {
   "name": "python"
  }
 },
 "nbformat": 4,
 "nbformat_minor": 5
}
