{
 "cells": [
  {
   "cell_type": "markdown",
   "id": "3916205d",
   "metadata": {},
   "source": [
    "<div align=\"center\">\n",
    "\n",
    "# ***Markdown <br>syntax, notation***\n",
    "---\n",
    "---\n",
    "</div>"
   ]
  },
  {
   "cell_type": "markdown",
   "id": "7075c5e0",
   "metadata": {},
   "source": [
    "> Source: [Writing on GitHub](https://docs.github.com/en/get-started/writing-on-github/getting-started-with-writing-and-formatting-on-github/basic-writing-and-formatting-syntax)."
   ]
  },
  {
   "cell_type": "markdown",
   "id": "a6d246a5",
   "metadata": {},
   "source": [
    "## 1. Header:\n"
   ]
  },
  {
   "cell_type": "markdown",
   "id": "a83dfb30",
   "metadata": {},
   "source": [
    "- '#'    : first-level header\n"
   ]
  },
  {
   "cell_type": "markdown",
   "id": "bcc2f237",
   "metadata": {},
   "source": [
    "# HEADER 1\n"
   ]
  },
  {
   "cell_type": "markdown",
   "id": "0c4435a4",
   "metadata": {},
   "source": [
    "- '##'   : second-level header\n"
   ]
  },
  {
   "cell_type": "markdown",
   "id": "69d6ab27",
   "metadata": {},
   "source": [
    "## HEADER 2\n"
   ]
  },
  {
   "cell_type": "markdown",
   "id": "b93e0a9f",
   "metadata": {},
   "source": [
    "- And so on..."
   ]
  },
  {
   "cell_type": "markdown",
   "id": "18c92177",
   "metadata": {},
   "source": [
    "## 2. Quoting text:\n"
   ]
  },
  {
   "cell_type": "markdown",
   "metadata": {},
   "source": [
    "- '>': a quote\n",
    "That text is not a quote\n",
    "> That text is a quote"
   ]
  },
  {
   "cell_type": "markdown",
   "id": "a5f4b092",
   "metadata": {},
   "source": [
    "## 3. Quoting code:\n"
   ]
  },
  {
   "cell_type": "markdown",
   "metadata": {},
   "source": [
    "> \" `` \": a quoting code `Ctrl + E`."
   ]
  },
  {
   "cell_type": "markdown",
   "id": "e2bf82c8",
   "metadata": {},
   "source": [
    "Use `git status` to list all new or modified files that haven't yet been committed."
   ]
  },
  {
   "cell_type": "markdown",
   "id": "411ef420",
   "metadata": {},
   "source": [
    "> \" `````` \": a block of quoting code `Triple Ctrl + E`\n",
    "Some basic Git commands are:\n",
    "```\n",
    "git status\n",
    "git add\n",
    "git commit\n",
    "```"
   ]
  },
  {
   "cell_type": "markdown",
   "metadata": {},
   "source": [
    "## 4. Insert image:\n"
   ]
  },
  {
   "cell_type": "markdown",
   "id": "82ff6405",
   "metadata": {},
   "source": [
    "\n",
    "- Image in your repository: <br>\n",
    "    `![alt text](https://github.com/[username]/[reponame]/blob/[branch]/image.jpg?raw=true)`\n",
    "- Image at URL:<br>\n",
    "    `![alt text](http://url/to/img.png)`\n"
   ]
  }
 ],
 "metadata": {
  "language_info": {
   "name": "python"
  }
 },
 "nbformat": 4,
 "nbformat_minor": 5
}
