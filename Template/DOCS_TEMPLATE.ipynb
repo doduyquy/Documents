{
 "cells": [
  {
   "cell_type": "markdown",
   "id": "854eb0e4",
   "metadata": {},
   "source": [
    "<div align=\"center\">\n",
    "\n",
    "# ***[H1] - 📖 Docs: [Library / Function Name]***\n",
    "> Subtitle\n",
    "\n",
    "---\n",
    "---\n",
    "\n",
    "</div>"
   ]
  },
  {
   "cell_type": "markdown",
   "id": "a6a1499a",
   "metadata": {},
   "source": [
    "## [H2] - **🧾 Description**\n",
    "- **Purpose:** [Explain what the function/library does]\n",
    "- **Use Case:** [When to use it, when not to]\n"
   ]
  },
  {
   "cell_type": "markdown",
   "id": "3a824cba",
   "metadata": {},
   "source": [
    "## [H2] - **🖋️ Syntax**\n"
   ]
  },
  {
   "cell_type": "markdown",
   "id": "50204f08",
   "metadata": {},
   "source": [
    "<div align=\"center\">\n",
    "\n",
    "$$hist, bin\\_edges = np.histogram(arr,bins=10, range=None, density=False, weights=None)$$\n",
    "\n",
    "</div>\n"
   ]
  },
  {
   "cell_type": "markdown",
   "id": "79a5baa0",
   "metadata": {},
   "source": [
    "\n",
    "## [H2] - **📌 Parameters**\n",
    "| Parameter | Type | Description | Default |\n",
    "|----------|------|-------------|---------|\n",
    "| `param1` | int | Number of elements to select | `None` |\n",
    "| `param2` | bool | Whether to allow ... | `False` |\n"
   ]
  },
  {
   "cell_type": "markdown",
   "id": "e617713a",
   "metadata": {},
   "source": [
    "## [H2] - **📤 Return Value**\n",
    "- Returns `ndarray` containing ...\n",
    "- Raises `ValueError` if ...\n"
   ]
  },
  {
   "cell_type": "markdown",
   "id": "40d47359",
   "metadata": {},
   "source": [
    "## [H2] - **💡 Example**"
   ]
  },
  {
   "cell_type": "code",
   "execution_count": null,
   "id": "0cd1e37d",
   "metadata": {},
   "outputs": [],
   "source": [
    "import numpy as np\n",
    "\n",
    "arr = np.array([1, 2, 3])\n",
    "result = np.function_name(arr)\n",
    "print(result)"
   ]
  },
  {
   "cell_type": "markdown",
   "id": "0bc59d8b",
   "metadata": {},
   "source": [
    "\n",
    "✅ **Output:**\n",
    "\n",
    "[1 2 3]"
   ]
  },
  {
   "cell_type": "markdown",
   "id": "32830ba7",
   "metadata": {},
   "source": [
    "\n",
    "## [H2] -  **⚠️ Notes / Pitfalls(Traps)**\n",
    "- Avoid using with empty arrays → may raise `RuntimeWarning`.\n",
    "- Slower if used with `dtype=object`.\n",
    "\n"
   ]
  },
  {
   "cell_type": "markdown",
   "id": "2d8a67ba",
   "metadata": {},
   "source": [
    "## [H2] - **🖇️ References**\n",
    "- [Official NumPy Docs](https://numpy.org/doc/stable/reference/generated/numpy.function_name.html)\n",
    "- [Helpful Blog / Video](https://link)\n"
   ]
  },
  {
   "cell_type": "markdown",
   "id": "aeb918c8",
   "metadata": {},
   "source": [
    "\n",
    "--- \n"
   ]
  },
  {
   "cell_type": "markdown",
   "id": "452c64fa",
   "metadata": {},
   "source": [
    "## The end"
   ]
  }
 ],
 "metadata": {
  "language_info": {
   "name": "python"
  }
 },
 "nbformat": 4,
 "nbformat_minor": 5
}
