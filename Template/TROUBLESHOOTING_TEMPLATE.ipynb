{
 "cells": [
  {
   "cell_type": "markdown",
   "id": "c3e153f2",
   "metadata": {},
   "source": [
    "<div align=\"center\">\n",
    "\n",
    "# ***[H1] - ❗ Troubleshooting: [Issue Title]***\n",
    "> Subtitle \n",
    "\n",
    "---\n",
    "---\n",
    "\n",
    "</div>"
   ]
  },
  {
   "cell_type": "markdown",
   "id": "5c04e6dc",
   "metadata": {},
   "source": [
    "## [H2] - 🧠 Symptoms\n",
    "When performing [action], the following error appears:\n",
    "- The errors: \n",
    "```\n",
    "Error: module not found: ...\n",
    "```\n",
    "- Images: \n",
    "\n",
    "[image_name](image_link)\n"
   ]
  },
  {
   "cell_type": "markdown",
   "id": "5962a62f",
   "metadata": {},
   "source": [
    "## [H2] - 📌 Possible Causes | Reason\n",
    "1. [Cause #1] – e.g., missing dependency  \n",
    "2. [Cause #2] – e.g., permission issue "
   ]
  },
  {
   "cell_type": "markdown",
   "id": "8455f12e",
   "metadata": {},
   "source": [
    "## [H2] - 🔧 Fix Steps"
   ]
  },
  {
   "cell_type": "markdown",
   "id": "4659fd37",
   "metadata": {},
   "source": [
    "### [H3] 🔹 Step 1: Check Configuration\n"
   ]
  },
  {
   "cell_type": "code",
   "execution_count": null,
   "id": "514dfc44",
   "metadata": {
    "vscode": {
     "languageId": "shellscript"
    }
   },
   "outputs": [],
   "source": [
    "command-to-check\n",
    "...\n"
   ]
  },
  {
   "cell_type": "markdown",
   "id": "b6e3ae03",
   "metadata": {},
   "source": [
    "### 🔹 Step 2: Install Missing Packages / Adjust Config"
   ]
  },
  {
   "cell_type": "code",
   "execution_count": null,
   "id": "aca515f5",
   "metadata": {
    "vscode": {
     "languageId": "shellscript"
    }
   },
   "outputs": [],
   "source": [
    "sudo apt install missing-package\n",
    "..."
   ]
  },
  {
   "cell_type": "markdown",
   "id": "d5275831",
   "metadata": {},
   "source": [
    "\n",
    "### 🔹 Step 3: Restart Service"
   ]
  },
  {
   "cell_type": "code",
   "execution_count": null,
   "id": "8ae67b2c",
   "metadata": {
    "vscode": {
     "languageId": "shellscript"
    }
   },
   "outputs": [],
   "source": [
    "sudo systemctl restart service\n",
    "..."
   ]
  },
  {
   "cell_type": "markdown",
   "id": "adf6cb59",
   "metadata": {},
   "source": [
    "## [H2] - ✅ Expected Result\n",
    "- Command runs successfully without error.\n",
    "- [Optional screenshot of the fixed result]\n"
   ]
  },
  {
   "cell_type": "markdown",
   "id": "0ff46e00",
   "metadata": {},
   "source": [
    "\n",
    "## [H2] - 🖇️ References\n",
    "- [StackOverflow Thread](https://stackoverflow.com/...)\n",
    "- [Official Issue Tracker](https://github.com/.../issues)\n"
   ]
  },
  {
   "cell_type": "markdown",
   "id": "5a729d68",
   "metadata": {},
   "source": [
    "\n",
    "--- \n"
   ]
  },
  {
   "cell_type": "markdown",
   "id": "46fbd442",
   "metadata": {},
   "source": [
    "## The end"
   ]
  }
 ],
 "metadata": {
  "language_info": {
   "name": "python"
  }
 },
 "nbformat": 4,
 "nbformat_minor": 5
}
