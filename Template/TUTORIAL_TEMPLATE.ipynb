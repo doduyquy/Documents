{
 "cells": [
  {
   "cell_type": "markdown",
   "id": "9e097cf2",
   "metadata": {},
   "source": [
    "<div align=\"center\">\n",
    "\n",
    "# ***[H1] - 💡 Tutorial Title***\n",
    "> Subtitle \n",
    "\n",
    "---\n",
    "---\n",
    "\n",
    "</div>"
   ]
  },
  {
   "cell_type": "markdown",
   "id": "235c70db",
   "metadata": {},
   "source": [
    "## **📋 [H2] - Prerequisites**\n",
    "- **OS:** Ubuntu 24.04 / Windows 11 / macOS  \n",
    "- **Required software:** [List versions if needed]  \n",
    "- **Permissions:** [root / sudo / admin rights]\n"
   ]
  },
  {
   "cell_type": "markdown",
   "id": "2bfefb93",
   "metadata": {},
   "source": [
    "## **🔧 [H2] - Step by step**\n"
   ]
  },
  {
   "cell_type": "markdown",
   "id": "bcb4f856",
   "metadata": {},
   "source": [
    "### [H3] - 1. Install Dependencies\n",
    "\n",
    "- Describe about command\n",
    "- ...\n",
    "\n"
   ]
  },
  {
   "cell_type": "code",
   "execution_count": null,
   "id": "6e3bb7f2",
   "metadata": {
    "vscode": {
     "languageId": "shellscript"
    }
   },
   "outputs": [],
   "source": [
    "# Comment\n",
    "sudo apt update && sudo apt install package-name -y"
   ]
  },
  {
   "cell_type": "markdown",
   "id": "0fb30d8b",
   "metadata": {},
   "source": [
    "### [H3] - 2. Download and Install [Software Name]\n",
    "\n",
    "- Describe about command\n",
    "- ...\n",
    "\n"
   ]
  },
  {
   "cell_type": "code",
   "execution_count": null,
   "id": "37690127",
   "metadata": {
    "vscode": {
     "languageId": "shellscript"
    }
   },
   "outputs": [],
   "source": [
    "wget <link>\n",
    "tar -xvf <file>.tar.gz"
   ]
  },
  {
   "cell_type": "markdown",
   "id": "ab1f4a43",
   "metadata": {},
   "source": [
    "### [H3] - 3. Download and Install [Software Name]\n",
    "\n",
    "- ...\n"
   ]
  },
  {
   "cell_type": "markdown",
   "id": "ddadccff",
   "metadata": {},
   "source": [
    "\n",
    "### [H3] - 4. Verify Installation"
   ]
  },
  {
   "cell_type": "markdown",
   "id": "d3836b72",
   "metadata": {},
   "source": [
    "✅ **Expected Output:**\n",
    "\n",
    "- The result looks like: ... [your images]..."
   ]
  },
  {
   "cell_type": "markdown",
   "id": "46e3056d",
   "metadata": {},
   "source": [
    "## [H2] - 🖇️ References\n",
    "- [Official Documentation](https://link-docs)\n",
    "- [Related Blog Post](https://link)"
   ]
  },
  {
   "cell_type": "markdown",
   "id": "b3e8b464",
   "metadata": {},
   "source": [
    "\n",
    "--- \n"
   ]
  },
  {
   "cell_type": "markdown",
   "id": "c25bf99a",
   "metadata": {},
   "source": [
    "### The end"
   ]
  }
 ],
 "metadata": {
  "language_info": {
   "name": "python"
  }
 },
 "nbformat": 4,
 "nbformat_minor": 5
}
