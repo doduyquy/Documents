{
 "cells": [
  {
   "cell_type": "markdown",
   "id": "9188777f",
   "metadata": {},
   "source": [
    "<dev align=\"center\">\n",
    "\n",
    "# ***Anaconda***\n",
    "---\n",
    "---\n",
    "</dev>"
   ]
  },
  {
   "cell_type": "markdown",
   "id": "004304b9",
   "metadata": {},
   "source": [
    "# **I. Install**\n",
    "- Ubuntu 24.04\n",
    "- VSCode \n",
    "- [Assistant: ChatGPT](https://chatgpt.com/share/68d56a88-e5bc-800f-bf93-83e265ea57d1)"
   ]
  },
  {
   "cell_type": "markdown",
   "id": "1a07511f",
   "metadata": {},
   "source": [
    "## 1. Download Anaconda for Linux"
   ]
  },
  {
   "cell_type": "markdown",
   "id": "eb2f9972",
   "metadata": {},
   "source": [
    "- Open your terminal:"
   ]
  },
  {
   "cell_type": "code",
   "execution_count": null,
   "id": "fd50c9ec",
   "metadata": {
    "vscode": {
     "languageId": "shellscript"
    }
   },
   "outputs": [],
   "source": [
    "cd ~/Downloads\n",
    "\n",
    "wget https://repo.anaconda.com/archive/Anaconda3-2024.06-1-Linux-x86_64.sh"
   ]
  },
  {
   "cell_type": "markdown",
   "metadata": {},
   "source": [
    "## 2. Install Anaconda"
   ]
  },
  {
   "cell_type": "markdown",
   "id": "4f79362d",
   "metadata": {},
   "source": [
    "### 2.1 Cài đăt và tùy chọn:"
   ]
  },
  {
   "cell_type": "markdown",
   "id": "d4fd2f72",
   "metadata": {},
   "source": [
    "- Sau khi tải xong, chạy file Anaconda3..._64.sh để cài đặt:"
   ]
  },
  {
   "cell_type": "code",
   "execution_count": null,
   "id": "641fe9d6",
   "metadata": {
    "vscode": {
     "languageId": "shellscript"
    }
   },
   "outputs": [],
   "source": [
    "bash Anaconda3-2024.06-1-Linux-x86_64.sh"
   ]
  },
  {
   "cell_type": "markdown",
   "id": "3aabff57",
   "metadata": {},
   "source": [
    "<figure>\n",
    "    <center> <img src=\"./images/anaconda_install_accept_yes.png\"  alt='missing'  ><center/>\n",
    "<figure/>"
   ]
  },
  {
   "cell_type": "markdown",
   "id": "a4286d5a",
   "metadata": {},
   "source": [
    "- Nhấn ENTER để xem license → nhấn q để thoát.\n",
    "- Gõ yes để đồng ý cài đặt.\n",
    "- Đường dẫn mặc định là ~/anaconda3 → giữ nguyên (rất chuẩn).\n",
    "- Khi được hỏi “Do you wish the installer to initialize Anaconda3 by running conda init?” → gõ yes."
   ]
  },
  {
   "cell_type": "markdown",
   "id": "392b3b87",
   "metadata": {},
   "source": [
    "<figure>\n",
    "    <center> <img src=\"./images/anaconda_install_auto-active_no.png\"  alt='missing'  ><center/>\n",
    "<figure/>"
   ]
  },
  {
   "cell_type": "markdown",
   "id": "608d98b8",
   "metadata": {},
   "source": [
    "+ Trình cài đặt hỏi có auto-active môi trường conda mỗi khi mở terminal không? &rarr; [no] \n",
    "    - Nếu đã chọn [yes], có thể tắt auto-active bằng:\n",
    "        `conda config --set auto_activate_base false`\n",
    "   "
   ]
  },
  {
   "cell_type": "markdown",
   "id": "7f5bdf83",
   "metadata": {},
   "source": [
    "Sau khi cài xong, đóng terminal và mở lại (hoặc chạy *source ~/.bashrc* để nạp config)."
   ]
  },
  {
   "cell_type": "markdown",
   "id": "2f618f35",
   "metadata": {},
   "source": [
    "### 2.2 Kiểm tra và khởi tạo"
   ]
  },
  {
   "cell_type": "markdown",
   "id": "52925987",
   "metadata": {},
   "source": [
    "- Khởi tạo (activate) conda:"
   ]
  },
  {
   "cell_type": "code",
   "execution_count": null,
   "id": "957e1358",
   "metadata": {
    "vscode": {
     "languageId": "shellscript"
    }
   },
   "outputs": [],
   "source": [
    "source ~/anaconda3/bin/activate"
   ]
  },
  {
   "cell_type": "markdown",
   "id": "e6b0d0a7",
   "metadata": {},
   "source": [
    "- Kiểm tra:"
   ]
  },
  {
   "cell_type": "code",
   "execution_count": null,
   "id": "08114299",
   "metadata": {
    "vscode": {
     "languageId": "shellscript"
    }
   },
   "outputs": [],
   "source": [
    "conda --version         # conda 24.x.x"
   ]
  },
  {
   "cell_type": "markdown",
   "id": "e349028b",
   "metadata": {},
   "source": [
    "## 3. Create environment for your workspace"
   ]
  },
  {
   "cell_type": "markdown",
   "id": "2c5d1c14",
   "metadata": {},
   "source": [
    "### 3.1 Create environment:"
   ]
  },
  {
   "cell_type": "markdown",
   "id": "ab4bc4b6",
   "metadata": {},
   "source": [
    "- Tạo môi trường với tên là [conda_sgu_ml_25] với Python 3.12:"
   ]
  },
  {
   "cell_type": "code",
   "execution_count": null,
   "id": "7760bc14",
   "metadata": {
    "vscode": {
     "languageId": "shellscript"
    }
   },
   "outputs": [],
   "source": [
    "conda create -n conda_sgu_ml_25 python=3.12\n",
    "conda activate conda_sgu_ml_25"
   ]
  },
  {
   "cell_type": "markdown",
   "id": "8c10e7e6",
   "metadata": {},
   "source": [
    "- [Optional] Cài đặt thêm các gói cần thiết:"
   ]
  },
  {
   "cell_type": "code",
   "execution_count": null,
   "id": "a2f4d6b7",
   "metadata": {
    "vscode": {
     "languageId": "shellscript"
    }
   },
   "outputs": [],
   "source": [
    "conda install numpy pandas matplotlib seaborn scikit-learn lightgbm jupyter -y"
   ]
  },
  {
   "cell_type": "markdown",
   "id": "60aeb418",
   "metadata": {},
   "source": [
    "# **II. Some useful command**"
   ]
  },
  {
   "cell_type": "markdown",
   "id": "fe101bcb",
   "metadata": {},
   "source": [
    "## 1. Activate and deactivate"
   ]
  },
  {
   "cell_type": "code",
   "execution_count": null,
   "id": "5b27bede",
   "metadata": {
    "vscode": {
     "languageId": "shellscript"
    }
   },
   "outputs": [],
   "source": [
    "conda activate conda_sgu_ml_2025    # activate conda environment \n",
    "conda deactivate                    # deactivate conda environment "
   ]
  },
  {
   "cell_type": "markdown",
   "id": "0d0d396e",
   "metadata": {},
   "source": []
  },
  {
   "cell_type": "markdown",
   "id": "79e81460",
   "metadata": {},
   "source": []
  },
  {
   "cell_type": "markdown",
   "metadata": {},
   "source": []
  }
 ],
 "metadata": {
  "language_info": {
   "name": "python"
  }
 },
 "nbformat": 4,
 "nbformat_minor": 5
}
