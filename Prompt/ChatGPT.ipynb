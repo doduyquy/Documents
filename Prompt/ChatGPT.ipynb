{
 "cells": [
  {
   "cell_type": "markdown",
   "id": "1595fa91",
   "metadata": {},
   "source": [
    "<div align=\"center\">\n",
    "\n",
    "# ***ChatGPT prompt***\n",
    "---\n",
    "---\n",
    "\n",
    "</div>"
   ]
  },
  {
   "cell_type": "markdown",
   "id": "0e51c2ea",
   "metadata": {},
   "source": [
    "<figure>\n",
    "    <img src=\"./images/Prompt_ChatGPT.png\">\n",
    "</figure>"
   ]
  },
  {
   "cell_type": "markdown",
   "id": "4e8d1a7c",
   "metadata": {},
   "source": [
    "- Some rules, prompt for searching ChatGPT or another LLM model *efficiently*"
   ]
  },
  {
   "cell_type": "markdown",
   "id": "1b742ee3",
   "metadata": {},
   "source": [
    "## The 6 prompts components\n"
   ]
  },
  {
   "cell_type": "markdown",
   "id": "19b0f211",
   "metadata": {},
   "source": [
    "<!-- Task: Purple gradient -->\n",
    "<h2 style=\"font-family:sans-serif; font-weight:600;\">\n",
    "  <span style=\"\n",
    "    background: linear-gradient(90deg, #9370DB, #E6E6FA);\n",
    "    color: #1A0033;\n",
    "    padding: 4px 8px;\n",
    "    border-radius: 8px;\n",
    "    box-shadow: 0 1px 4px rgba(0,0,0,0.3);\n",
    "    display:inline-block;\n",
    "  \">\n",
    "    Task\n",
    "  </span>\n",
    "</h2>"
   ]
  },
  {
   "cell_type": "markdown",
   "id": "0adba51c",
   "metadata": {},
   "source": [
    "### Verb:"
   ]
  },
  {
   "cell_type": "markdown",
   "id": "0495ac36",
   "metadata": {},
   "source": [
    "- summarize \n",
    "- categorize\n",
    "- generative \n",
    "- give \n",
    "- write \n",
    "- analyze,..."
   ]
  },
  {
   "cell_type": "markdown",
   "id": "0f2d2ede",
   "metadata": {},
   "source": [
    "e.g:"
   ]
  },
  {
   "cell_type": "markdown",
   "id": "4578c342",
   "metadata": {},
   "source": [
    "- Give me 3-month schedule...\n",
    "- Code for me...\n",
    "- Solve this problem:..."
   ]
  },
  {
   "cell_type": "markdown",
   "id": "400a2873",
   "metadata": {},
   "source": [
    "<h2 style=\"font-family:sans-serif; font-weight:600;\">\n",
    "  <span style=\"\n",
    "    background: linear-gradient(90deg, #87CEEB, #E6F7FF);\n",
    "    color: #002244;\n",
    "    padding: 4px 8px;\n",
    "    border-radius: 8px;\n",
    "    box-shadow: 0 1px 4px rgba(0,0,0,0.3);\n",
    "    display:inline-block;\n",
    "  \">\n",
    "    Context\n",
    "  </span>\n",
    "</h2>"
   ]
  },
  {
   "cell_type": "markdown",
   "id": "44b6a796",
   "metadata": {},
   "source": [
    "### That is:\n",
    "\n",
    "- User background\n",
    "- Success look like...\n",
    "- Environment "
   ]
  },
  {
   "cell_type": "markdown",
   "id": "952ab337",
   "metadata": {},
   "source": [
    "*(I'm a 70kg male) [user background] looking to put on (5 kilogram of muscle mass over the next 3 month)[success look like this].(I only have time to go to the gym twice a week and for 1 hour each session)[environment]. Give me a 3-month training program to follow.*"
   ]
  },
  {
   "cell_type": "markdown",
   "id": "edced458",
   "metadata": {},
   "source": [
    "<!-- Success: Green gradient -->\n",
    "<h2 style=\"font-family:sans-serif; font-weight:600;\">\n",
    "  <span style=\"\n",
    "    background: linear-gradient(90deg, #98FB98, #E6FFE6);\n",
    "    color: #004400;\n",
    "    padding: 4px 8px;\n",
    "    border-radius: 8px;\n",
    "    box-shadow: 0 1px 4px rgba(0,0,0,0.3);\n",
    "    display:inline-block;\n",
    "  \">\n",
    "    Persona\n",
    "  </span>\n",
    "</h2>"
   ]
  },
  {
   "cell_type": "markdown",
   "id": "855d69b3",
   "metadata": {},
   "source": [
    "Who do you want ChatGPT are?\n",
    "\n",
    "- You are an Data Scientist with 20 experience years...\n",
    "- Act like a legend of investment - Warren Buffet..."
   ]
  },
  {
   "cell_type": "markdown",
   "id": "f0eec1bd",
   "metadata": {},
   "source": [
    "<!-- Note: Gold gradient -->\n",
    "<h2 style=\"font-family:sans-serif; font-weight:600;\">\n",
    "  <span style=\"\n",
    "    background: linear-gradient(90deg, #FFD700, #FFFACD);\n",
    "    color: #000000;\n",
    "    padding: 4px 8px;\n",
    "    border-radius: 8px;\n",
    "    box-shadow: 0 1px 4px rgba(0,0,0,0.3);\n",
    "    display:inline-block;\n",
    "  \">\n",
    "    Exemplar\n",
    "  </span>\n",
    "</h2>"
   ]
  },
  {
   "cell_type": "markdown",
   "id": "8e286554",
   "metadata": {},
   "source": [
    "Give it your example which you want it follow:\n",
    "\n",
    "- The paragraph with structure: header, title and note,...\n",
    "- Write an email like this: ... (attach your example email)"
   ]
  },
  {
   "cell_type": "markdown",
   "id": "b932b334",
   "metadata": {},
   "source": [
    "<!-- Info: Silver gradient -->\n",
    "<h2 style=\"font-family:sans-serif; font-weight:600;\">\n",
    "  <span style=\"\n",
    "    background: linear-gradient(90deg, #C0C0C0, #F5F5F5);\n",
    "    color: #000000;\n",
    "    padding: 4px 8px;\n",
    "    border-radius: 8px;\n",
    "    box-shadow: 0 1px 4px rgba(0,0,0,0.3);\n",
    "    display:inline-block;\n",
    "  \">\n",
    "    Format\n",
    "  </span>\n",
    "</h2>"
   ]
  },
  {
   "cell_type": "markdown",
   "id": "b6c57653",
   "metadata": {},
   "source": [
    "What is the output format do you want?\n",
    "- table\n",
    "- email \n",
    "- bullet points\n",
    "- code blocks\n",
    "- paragraph\n",
    "- markdown\n",
    "- ..."
   ]
  },
  {
   "cell_type": "markdown",
   "id": "92c2b797",
   "metadata": {},
   "source": [
    "<!-- Warning: Salmon gradient -->\n",
    "<h2 style=\"font-family:sans-serif; font-weight:600;\">\n",
    "  <span style=\"\n",
    "    background: linear-gradient(90deg, #FFA07A, #FFE4E1);\n",
    "    color: #660000;\n",
    "    padding: 4px 8px;\n",
    "    border-radius: 8px;\n",
    "    box-shadow: 0 1px 4px rgba(0,0,0,0.3);\n",
    "    display:inline-block;\n",
    "  \">\n",
    "    Tone\n",
    "  </span>\n",
    "</h2>"
   ]
  },
  {
   "cell_type": "markdown",
   "id": "5c675671",
   "metadata": {},
   "source": [
    "- casual tone\n",
    "- formal tone\n",
    "- witty tone\n",
    "- pessimistic\n",
    "- enthusiasm\n",
    "- ..."
   ]
  },
  {
   "cell_type": "markdown",
   "metadata": {},
   "source": []
  },
  {
   "cell_type": "markdown",
   "id": "c21301f3",
   "metadata": {},
   "source": []
  }
 ],
 "metadata": {
  "language_info": {
   "name": "python"
  }
 },
 "nbformat": 4,
 "nbformat_minor": 5
}
